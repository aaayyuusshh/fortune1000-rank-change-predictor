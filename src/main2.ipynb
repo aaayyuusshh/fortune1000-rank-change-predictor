{
 "cells": [
  {
   "cell_type": "code",
   "execution_count": 161,
   "id": "ea736cc3",
   "metadata": {},
   "outputs": [],
   "source": [
    "import numpy as np\n",
    "import pandas as pd\n",
    "import tensorflow as tf"
   ]
  },
  {
   "cell_type": "markdown",
   "id": "2b1710fe",
   "metadata": {},
   "source": [
    "## Dividing data into train data and test data\n",
    "    - train data & test data will be in the form of numpy arrays\n",
    "    - train data: x_train, y_train\n",
    "    - test data: x_test, y_test\n",
    "    - x portion is the input var, y portion is the output var"
   ]
  },
  {
   "cell_type": "code",
   "execution_count": 171,
   "id": "e2d7cace",
   "metadata": {},
   "outputs": [],
   "source": [
    "# loading our clean dataset\n",
    "df = pd.read_csv(\"data-cleaned.csv\")"
   ]
  },
  {
   "cell_type": "code",
   "execution_count": 284,
   "id": "b32d19f8",
   "metadata": {},
   "outputs": [],
   "source": [
    "# configuring sizes of our train & test dataframes\n",
    "dfSize = len(df)\n",
    "trainSize = int(dfSize * 0.7)\n",
    "testSize = int(dfSize * 0.3)\n",
    "\n",
    "# grabbing our training dataframes\n",
    "x_train_df = df[[\"revenues\", \"revenue_percent_change\", \"profits\", \n",
    "                \"profits_percent_change\", \"assets\", \"market_value\", \"employees\"]].head(trainSize)\n",
    "y_train_df = df[\"rank_change\"].head(trainSize)\n",
    "\n",
    "# converting our training dataframes to numpy arrays\n",
    "x_train = np.array(x_train_df)\n",
    "y_train = np.array(y_train_df)\n",
    "\n",
    "#grabbing our testing dataframes\n",
    "x_test_df = df[[\"revenues\", \"revenue_percent_change\", \"profits\", \n",
    "                \"profits_percent_change\", \"assets\", \"market_value\", \"employees\"]].tail(testSize)\n",
    "y_test_df = df[\"rank_change\"].tail(testSize)\n",
    "\n",
    "#converting our testing dataframes to numpy arrays\n",
    "x_test = np.array(x_test_df)\n",
    "y_test = np.array(y_test_df)"
   ]
  },
  {
   "cell_type": "code",
   "execution_count": 285,
   "id": "98035180",
   "metadata": {},
   "outputs": [
    {
     "name": "stdout",
     "output_type": "stream",
     "text": [
      "True\n",
      "True\n"
     ]
    }
   ],
   "source": [
    "# verifying the lengths of our training & testing numpy arrays\n",
    "print(len(x_train) == trainSize & len(y_train) == trainSize)\n",
    "print(len(x_test) == testSize & len(y_test) == testSize)"
   ]
  },
  {
   "cell_type": "markdown",
   "id": "f4f4dd31",
   "metadata": {},
   "source": [
    "## Building our model\n",
    "### Goal: Predit if the company rank changed from previous year or not based on 6 input vars\n",
    "    - input vars: \"revenues\", \"revenue_percent_change\", \"profits\", \"profits_percent_change\", \"assets\", \"employees\""
   ]
  },
  {
   "cell_type": "code",
   "execution_count": 287,
   "id": "fb22eafa",
   "metadata": {},
   "outputs": [
    {
     "name": "stdout",
     "output_type": "stream",
     "text": [
      "Epoch 1/5\n",
      "16/16 [==============================] - 0s 1ms/step - loss: 0.6675 - accuracy: 0.6590\n",
      "Epoch 2/5\n",
      "16/16 [==============================] - 0s 1ms/step - loss: 0.6603 - accuracy: 0.6590\n",
      "Epoch 3/5\n",
      "16/16 [==============================] - 0s 1ms/step - loss: 0.6544 - accuracy: 0.6590\n",
      "Epoch 4/5\n",
      "16/16 [==============================] - 0s 1ms/step - loss: 0.6500 - accuracy: 0.6590\n",
      "Epoch 5/5\n",
      "16/16 [==============================] - 0s 1ms/step - loss: 0.6466 - accuracy: 0.6590\n"
     ]
    },
    {
     "data": {
      "text/plain": [
       "<keras.callbacks.History at 0x7fb1846505e0>"
      ]
     },
     "execution_count": 287,
     "metadata": {},
     "output_type": "execute_result"
    }
   ],
   "source": [
    "# normalize the dataset\n",
    "x_train = tf.keras.utils.normalize(x_train, axis=1)\n",
    "x_test = tf.keras.utils.normalize(x_test, axis=1)\n",
    "\n",
    "# build the model\n",
    "model = tf.keras.models.Sequential()\n",
    "model.add(tf.keras.layers.Flatten())\n",
    "model.add(tf.keras.layers.Dense(128, activation = tf.nn.relu))\n",
    "model.add(tf.keras.layers.Dense(1, activation = tf.nn.sigmoid))\n",
    "\n",
    "model.compile(optimizer = \"sgd\", loss = \"binary_crossentropy\", metrics = [\"accuracy\"])\n",
    "\n",
    "# train the model with trainig data\n",
    "model.fit(x_train, y_train, epochs = 5)"
   ]
  },
  {
   "cell_type": "markdown",
   "id": "4c7e61d3",
   "metadata": {},
   "source": [
    "## Evaluating model"
   ]
  },
  {
   "cell_type": "code",
   "execution_count": 288,
   "id": "b6d9b58a",
   "metadata": {},
   "outputs": [
    {
     "name": "stdout",
     "output_type": "stream",
     "text": [
      "--Evaluate model--\n",
      "16/16 - 0s - loss: 0.6446 - accuracy: 0.6590 - 113ms/epoch - 7ms/step\n",
      "7/7 - 0s - loss: 0.6561 - accuracy: 0.6408 - 21ms/epoch - 3ms/step\n",
      "Train / Test Accuracy: 65.9% / 64.1%\n"
     ]
    }
   ],
   "source": [
    "print(\"--Evaluate model--\")\n",
    "model_loss1, model_acc1 = model.evaluate(x_train,  y_train, verbose=2)\n",
    "model_loss2, model_acc2 = model.evaluate(x_test,  y_test, verbose=2)\n",
    "print(f\"Train / Test Accuracy: {model_acc1*100:.1f}% / {model_acc2*100:.1f}%\")"
   ]
  }
 ],
 "metadata": {
  "kernelspec": {
   "display_name": "firstEnv",
   "language": "python",
   "name": "firstenv"
  },
  "language_info": {
   "codemirror_mode": {
    "name": "ipython",
    "version": 3
   },
   "file_extension": ".py",
   "mimetype": "text/x-python",
   "name": "python",
   "nbconvert_exporter": "python",
   "pygments_lexer": "ipython3",
   "version": "3.9.12"
  }
 },
 "nbformat": 4,
 "nbformat_minor": 5
}
